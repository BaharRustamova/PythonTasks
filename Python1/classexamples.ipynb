{
 "cells": [
  {
   "cell_type": "code",
   "execution_count": 1,
   "metadata": {},
   "outputs": [
    {
     "data": {
      "text/plain": [
       "{'student_id': '1', 'student_name': 'Tabriz ', 'class_name': 'DS'}"
      ]
     },
     "execution_count": 1,
     "metadata": {},
     "output_type": "execute_result"
    }
   ],
   "source": [
    "class Student: \n",
    "    def __init__(self, student_id, student_name, class_name):\n",
    "        self.student_id = student_id\n",
    "        self.student_name = student_name\n",
    "        self.class_name = class_name \n",
    "student = Student('1', 'Tabriz ', 'DS')\n",
    "student2 =Student('Eli','2','FE')\n",
    "student.__dict__"
   ]
  },
  {
   "cell_type": "code",
   "execution_count": 2,
   "metadata": {},
   "outputs": [],
   "source": [
    "class IOString:\n",
    "    def __init__(self):\n",
    "        self.str1 = \"\"\n",
    "        #pass\n",
    "\n",
    "    def get_String(self):\n",
    "        self.str1 = input()\n",
    "\n",
    "    def print_String(self):\n",
    "        print(self.str1.upper())"
   ]
  },
  {
   "cell_type": "code",
   "execution_count": 3,
   "metadata": {},
   "outputs": [],
   "source": [
    "a = IOString()"
   ]
  },
  {
   "cell_type": "code",
   "execution_count": 4,
   "metadata": {},
   "outputs": [],
   "source": [
    "a.get_String()"
   ]
  },
  {
   "cell_type": "code",
   "execution_count": 5,
   "metadata": {},
   "outputs": [
    {
     "name": "stdout",
     "output_type": "stream",
     "text": [
      "6\n"
     ]
    }
   ],
   "source": [
    "a.print_String()"
   ]
  },
  {
   "cell_type": "code",
   "execution_count": 6,
   "metadata": {},
   "outputs": [],
   "source": [
    "class Employee:\n",
    "    def __init__(self, name, emp_id, salary, department):\n",
    "        self.name = name\n",
    "        self.id = emp_id\n",
    "        self.salary = salary\n",
    "        self.department = department\n",
    "\n",
    "    def calculate_salary(self, salary, hours_worked):\n",
    "        overtime = 0\n",
    "        if hours_worked > 50:\n",
    "            overtime = hours_worked - 50\n",
    "        self.salary = self.salary + (overtime * (self.salary / 50))\n",
    "\n",
    "    def assign_department(self, emp_department):\n",
    "        self.department = emp_department\n",
    "\n",
    "    def print_employee_details(self):\n",
    "        print(\"\\nName: \", self.name)\n",
    "        print(\"ID: \", self.id)\n",
    "        print(\"Salary: \", self.salary)\n",
    "        print(\"Department: \", self.department)\n",
    "        print(\"----------------------\")"
   ]
  },
  {
   "cell_type": "code",
   "execution_count": 9,
   "metadata": {},
   "outputs": [],
   "source": [
    "bahar = Employee('Bahar',1,3500,'Science')"
   ]
  },
  {
   "cell_type": "code",
   "execution_count": 10,
   "metadata": {},
   "outputs": [],
   "source": [
    "bahar.calculate_salary(3500,55)"
   ]
  },
  {
   "cell_type": "code",
   "execution_count": 11,
   "metadata": {},
   "outputs": [
    {
     "data": {
      "text/plain": [
       "3850.0"
      ]
     },
     "execution_count": 11,
     "metadata": {},
     "output_type": "execute_result"
    }
   ],
   "source": [
    "bahar.salary"
   ]
  },
  {
   "cell_type": "code",
   "execution_count": 12,
   "metadata": {},
   "outputs": [],
   "source": [
    "class Inventory:\n",
    "    def __init__(self):\n",
    "        self.inventory = {}\n",
    "    def add_item(self, item_id, item_name, stock_count, price):\n",
    "        self.inventory[item_id] = {\"item_name\": item_name, \"stock_count\": stock_count, \"price\": price}\n",
    "\n",
    "    def update_item(self, item_id, stock_count, price):\n",
    "        if item_id in self.inventory:\n",
    "            self.inventory[item_id][\"stock_count\"] = stock_count\n",
    "            self.inventory[item_id][\"price\"] = price\n",
    "        else:\n",
    "            print(\"Item not found in inventory.\")\n",
    "\n",
    "    def check_item_details(self, item_id):\n",
    "        if item_id in self.inventory:\n",
    "            item = self.inventory[item_id]\n",
    "            return f\"Product Name: {item['item_name']}, Stock Count: {item['stock_count']}, Price: {item['price']}\"\n",
    "        else:\n",
    "            return \"Item not found in inventory.\""
   ]
  },
  {
   "cell_type": "code",
   "execution_count": 13,
   "metadata": {},
   "outputs": [],
   "source": [
    "a = Inventory()\n",
    "a.add_item('D500','Dell alien',100,5000)\n",
    "a.add_item('D600','Dell',20,3500)\n",
    "a.add_item('A500','Acer300',1,1500)"
   ]
  },
  {
   "cell_type": "code",
   "execution_count": 14,
   "metadata": {},
   "outputs": [
    {
     "data": {
      "text/plain": [
       "'Product Name: Acer300, Stock Count: 1, Price: 1500'"
      ]
     },
     "execution_count": 14,
     "metadata": {},
     "output_type": "execute_result"
    }
   ],
   "source": [
    "a.check_item_details('A500')"
   ]
  },
  {
   "cell_type": "code",
   "execution_count": 15,
   "metadata": {},
   "outputs": [],
   "source": [
    "class py_solution:\n",
    "  def twoSum(self, nums, target):\n",
    "       l = {}\n",
    "       for i, num in enumerate(nums):\n",
    "           if target - num in l:\n",
    "               print( (l[target - num], i ))\n",
    "           l[num] = i"
   ]
  },
  {
   "cell_type": "code",
   "execution_count": 16,
   "metadata": {},
   "outputs": [],
   "source": [
    "a = py_solution()"
   ]
  },
  {
   "cell_type": "code",
   "execution_count": 17,
   "metadata": {},
   "outputs": [
    {
     "name": "stdout",
     "output_type": "stream",
     "text": [
      "(3, 5)\n",
      "(1, 6)\n"
     ]
    }
   ],
   "source": [
    "a.twoSum([10,20,30,40,50,60,80],100)\n",
    "\n",
    "l ={'10':0,'20':1,'30':2,'40':3,'50':4}"
   ]
  },
  {
   "cell_type": "code",
   "execution_count": 18,
   "metadata": {},
   "outputs": [
    {
     "name": "stdout",
     "output_type": "stream",
     "text": [
      "(3, 5)\n",
      "(1, 6)\n"
     ]
    }
   ],
   "source": [
    "a.twoSum([10,20,30,40,50,60,80],100)"
   ]
  },
  {
   "cell_type": "code",
   "execution_count": 19,
   "metadata": {},
   "outputs": [],
   "source": [
    "class Dusman:\n",
    "    kalan_can = 3\n",
    "    def saldir(self):\n",
    "        print(\"Hucummm\")\n",
    "        self.kalan_can ==1\n",
    "    def hayattami(self):\n",
    "        if (self.kalan_can<=0):\n",
    "            print(\"Olduu\")\n",
    "        else:\n",
    "            print(str(self.kalan_can) + \" canim kaldi\")\n",
    "        "
   ]
  },
  {
   "cell_type": "code",
   "execution_count": 22,
   "metadata": {},
   "outputs": [],
   "source": [
    "dusman1 = Dusman()"
   ]
  },
  {
   "cell_type": "code",
   "execution_count": 23,
   "metadata": {},
   "outputs": [],
   "source": [
    "dusman2 = Dusman()"
   ]
  },
  {
   "cell_type": "code",
   "execution_count": 24,
   "metadata": {},
   "outputs": [
    {
     "name": "stdout",
     "output_type": "stream",
     "text": [
      "Hucummm\n"
     ]
    }
   ],
   "source": [
    "dusman1.saldir()"
   ]
  },
  {
   "cell_type": "code",
   "execution_count": 25,
   "metadata": {},
   "outputs": [
    {
     "name": "stdout",
     "output_type": "stream",
     "text": [
      "Hucummm\n"
     ]
    }
   ],
   "source": [
    "dusman1.saldir()"
   ]
  },
  {
   "cell_type": "code",
   "execution_count": 26,
   "metadata": {},
   "outputs": [
    {
     "name": "stdout",
     "output_type": "stream",
     "text": [
      "3 canim kaldi\n"
     ]
    }
   ],
   "source": [
    "dusman1.hayattami()"
   ]
  },
  {
   "cell_type": "code",
   "execution_count": 27,
   "metadata": {},
   "outputs": [
    {
     "name": "stdout",
     "output_type": "stream",
     "text": [
      "Dusman1.......................................\n",
      "Basiliyor.....................\n",
      "isim: Ali Kalan_can: 2000 saldiri_gucu: 50 mermi_sayisi: 30\n",
      "Dusman2.......................................\n",
      "Basiliyor.....................\n",
      "isim: Veli Kalan_can: 1500 saldiri_gucu: 40 mermi_sayisi: 20\n",
      "Dusman3.......................................\n",
      "Basiliyor.....................\n",
      "isim: Dusman Kalan_can: 500 saldiri_gucu: 10 mermi_sayisi: 5\n"
     ]
    }
   ],
   "source": [
    "class Dusman:\n",
    "    def __init__(self, isim = \"Dusman\", kalan_can = 500,saldiri_gucu = 10, mermi_sayisi = 5):\n",
    "        self.isim = isim\n",
    "        self.kalan_can = kalan_can\n",
    "        self.saldiri_gucu = saldiri_gucu\n",
    "        self.mermi_sayisi = mermi_sayisi\n",
    "    def print(self):\n",
    "        print(\"Basiliyor.....................\")\n",
    "        print(\"isim:\",self.isim,\"Kalan_can:\",self.kalan_can,\"saldiri_gucu:\",self.saldiri_gucu,\"mermi_sayisi:\",self.mermi_sayisi)\n",
    "\n",
    "dusman1 = Dusman(\"Ali\",2000,50,30)\n",
    "dusman2 = Dusman(\"Veli\",1500,40,20)\n",
    "dusman3 = Dusman()\n",
    "print(\"Dusman1.......................................\")\n",
    "dusman1.print()\n",
    "print(\"Dusman2.......................................\")\n",
    "dusman2.print()\n",
    "print(\"Dusman3.......................................\")\n",
    "dusman3.print()"
   ]
  },
  {
   "cell_type": "code",
   "execution_count": 28,
   "metadata": {},
   "outputs": [
    {
     "data": {
      "text/plain": [
       "{'student_id': '124',\n",
       " 'student_name': 'sevda',\n",
       " 'student_surname': 'heydarova',\n",
       " 'class_name': 'minf'}"
      ]
     },
     "execution_count": 28,
     "metadata": {},
     "output_type": "execute_result"
    }
   ],
   "source": [
    "class Student:\n",
    "    def __init__(self,student_id,student_name,student_surname,class_name):\n",
    "        self.student_id = student_id\n",
    "        self.student_name = student_name\n",
    "        self.student_surname = student_surname\n",
    "        self.class_name = class_name\n",
    "student1 =Student('123','bahar','rustamova','minf')\n",
    "student2 =Student('124','sevda','heydarova','minf')\n",
    "student1.__dict__\n",
    "student2.__dict__"
   ]
  },
  {
   "cell_type": "code",
   "execution_count": 41,
   "metadata": {},
   "outputs": [
    {
     "name": "stdout",
     "output_type": "stream",
     "text": [
      "Overwriting store.py\n"
     ]
    }
   ],
   "source": [
    "%%file store.py\n",
    "class customers:\n",
    "    def __init__(self,name,age,gender,job):\n",
    "        self.name = name\n",
    "        self.age = age\n",
    "        self.gender = gender\n",
    "        self.job = job\n",
    "    \n",
    "    def shopping(self,items):\n",
    "        self.items = items\n",
    "        return f\"{self.name} bought {self.items}\"\n",
    "    \n",
    "    def payment(self,quantity,price):\n",
    "        self.quantity = quantity\n",
    "        self.price = price\n",
    "        return f\"{self.name} paid {self.price*self.quantity}\"\n",
    "    \n",
    "    def __repr__(self):\n",
    "\n",
    "        return f\"Customer's name is: {self.name}, age is: {self.age}, gender is: {self.gender}, job is: {self.job}\"\n",
    "    \n",
    "    \n",
    "class customers_location(customers):\n",
    "    def __init__(self,name,age,gender,job,location):\n",
    "        super().__init__(name,age,gender,job)\n",
    "        self.location = location\n",
    "\n",
    "    def discount(self):\n",
    "        if self.location ==\"Goygol\":\n",
    "            print(\"You have 10% \\discount\")\n",
    "        elif self.location == \"Baku\":\n",
    "            print(\"You have 1% \\discount\")\n",
    "        else:\n",
    "            print(\"You don't have discount\")"
   ]
  },
  {
   "cell_type": "code",
   "execution_count": 42,
   "metadata": {},
   "outputs": [],
   "source": [
    "import store"
   ]
  },
  {
   "cell_type": "code",
   "execution_count": 43,
   "metadata": {},
   "outputs": [],
   "source": [
    "from store import customers"
   ]
  },
  {
   "cell_type": "code",
   "execution_count": 44,
   "metadata": {},
   "outputs": [],
   "source": [
    "customers1 = customers(\"Bahar\",22,\"F\",\"Data Scientist\")"
   ]
  },
  {
   "cell_type": "code",
   "execution_count": 45,
   "metadata": {},
   "outputs": [
    {
     "data": {
      "text/plain": [
       "'Bahar bought Phone'"
      ]
     },
     "execution_count": 45,
     "metadata": {},
     "output_type": "execute_result"
    }
   ],
   "source": [
    "customers1.shopping(\"Phone\")"
   ]
  },
  {
   "cell_type": "code",
   "execution_count": 46,
   "metadata": {},
   "outputs": [
    {
     "data": {
      "text/plain": [
       "'Bahar paid 7000'"
      ]
     },
     "execution_count": 46,
     "metadata": {},
     "output_type": "execute_result"
    }
   ],
   "source": [
    "customers1.payment(2,3500)"
   ]
  },
  {
   "cell_type": "code",
   "execution_count": 47,
   "metadata": {},
   "outputs": [
    {
     "ename": "NameError",
     "evalue": "name 'customers_location' is not defined",
     "output_type": "error",
     "traceback": [
      "\u001b[1;31m---------------------------------------------------------------------------\u001b[0m",
      "\u001b[1;31mNameError\u001b[0m                                 Traceback (most recent call last)",
      "\u001b[1;32mc:\\Users\\user\\Desktop\\Python\\assignment\\classexamples.ipynb Cell 31\u001b[0m line \u001b[0;36m1\n\u001b[1;32m----> <a href='vscode-notebook-cell:/c%3A/Users/user/Desktop/Python/assignment/classexamples.ipynb#X42sZmlsZQ%3D%3D?line=0'>1</a>\u001b[0m customers_location1\u001b[39m=\u001b[39mcustomers_location(\u001b[39m\"\u001b[39m\u001b[39mBahar\u001b[39m\u001b[39m\"\u001b[39m,\u001b[39m22\u001b[39m,\u001b[39m\"\u001b[39m\u001b[39mF\u001b[39m\u001b[39m\"\u001b[39m,\u001b[39m\"\u001b[39m\u001b[39mData Scientist\u001b[39m\u001b[39m\"\u001b[39m,\u001b[39m\"\u001b[39m\u001b[39mGoygol\u001b[39m\u001b[39m\"\u001b[39m)\n",
      "\u001b[1;31mNameError\u001b[0m: name 'customers_location' is not defined"
     ]
    }
   ],
   "source": [
    "customers_location1=customers_location(\"Bahar\",22,\"F\",\"Data Scientist\",\"Goygol\")"
   ]
  },
  {
   "cell_type": "code",
   "execution_count": 36,
   "metadata": {},
   "outputs": [
    {
     "ename": "NameError",
     "evalue": "name 'customers_location1' is not defined",
     "output_type": "error",
     "traceback": [
      "\u001b[1;31m---------------------------------------------------------------------------\u001b[0m",
      "\u001b[1;31mNameError\u001b[0m                                 Traceback (most recent call last)",
      "\u001b[1;32mc:\\Users\\user\\Desktop\\Python\\assignment\\classexamples.ipynb Cell 32\u001b[0m line \u001b[0;36m1\n\u001b[1;32m----> <a href='vscode-notebook-cell:/c%3A/Users/user/Desktop/Python/assignment/classexamples.ipynb#X43sZmlsZQ%3D%3D?line=0'>1</a>\u001b[0m customers_location1\u001b[39m.\u001b[39mdiscount()\n",
      "\u001b[1;31mNameError\u001b[0m: name 'customers_location1' is not defined"
     ]
    }
   ],
   "source": [
    "customers_location1.discount()"
   ]
  },
  {
   "cell_type": "code",
   "execution_count": null,
   "metadata": {},
   "outputs": [],
   "source": []
  }
 ],
 "metadata": {
  "kernelspec": {
   "display_name": "Python 3",
   "language": "python",
   "name": "python3"
  },
  "language_info": {
   "codemirror_mode": {
    "name": "ipython",
    "version": 3
   },
   "file_extension": ".py",
   "mimetype": "text/x-python",
   "name": "python",
   "nbconvert_exporter": "python",
   "pygments_lexer": "ipython3",
   "version": "3.11.4"
  }
 },
 "nbformat": 4,
 "nbformat_minor": 2
}
