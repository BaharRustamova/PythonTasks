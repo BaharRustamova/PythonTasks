{
 "cells": [
  {
   "cell_type": "code",
   "execution_count": 1,
   "metadata": {},
   "outputs": [],
   "source": [
    "\n",
    "#1. Create string and print the reverse of it with different way\n"
   ]
  },
  {
   "cell_type": "code",
   "execution_count": 2,
   "metadata": {},
   "outputs": [
    {
     "data": {
      "text/plain": [
       "'I am Bahar'"
      ]
     },
     "execution_count": 2,
     "metadata": {},
     "output_type": "execute_result"
    }
   ],
   "source": [
    "my_string = 'I am Bahar'\n",
    "my_string"
   ]
  },
  {
   "cell_type": "code",
   "execution_count": 3,
   "metadata": {},
   "outputs": [
    {
     "data": {
      "text/plain": [
       "'rahaB ma I'"
      ]
     },
     "execution_count": 3,
     "metadata": {},
     "output_type": "execute_result"
    }
   ],
   "source": [
    "my_string[::-1]"
   ]
  },
  {
   "cell_type": "code",
   "execution_count": 4,
   "metadata": {},
   "outputs": [],
   "source": [
    "\n",
    "#2. Create string and print first,middle and last value of string"
   ]
  },
  {
   "cell_type": "code",
   "execution_count": 5,
   "metadata": {},
   "outputs": [
    {
     "name": "stdout",
     "output_type": "stream",
     "text": [
      "new_value=Sevda yaxshi qizdi \n"
     ]
    }
   ],
   "source": [
    "new = 'Sevda yaxshi qizdi '\n",
    "a = new[0:6]\n",
    "b = new[6:12]\n",
    "c = new[12:19]\n",
    "print('new_value=%s'%(a+b+c))"
   ]
  },
  {
   "cell_type": "code",
   "execution_count": 6,
   "metadata": {},
   "outputs": [
    {
     "name": "stdout",
     "output_type": "stream",
     "text": [
      "S i s\n"
     ]
    }
   ],
   "source": [
    "new = 'Sevda yaxshi qizdi'\n",
    "a = new[0]\n",
    "b = new[-1]\n",
    "c = int(len(new)/2)\n",
    "e = new[c]\n",
    "print(a,b,e)"
   ]
  },
  {
   "cell_type": "code",
   "execution_count": 7,
   "metadata": {},
   "outputs": [],
   "source": [
    "\n",
    "#3. Write code that returns the middle 3 values of the string"
   ]
  },
  {
   "cell_type": "code",
   "execution_count": 8,
   "metadata": {},
   "outputs": [
    {
     "data": {
      "text/plain": [
       "'tHa'"
      ]
     },
     "execution_count": 8,
     "metadata": {},
     "output_type": "execute_result"
    }
   ],
   "source": [
    "stringss = 'MakeItHappen'\n",
    "c = int(len(stringss)/2)\n",
    "#e = stringss[c]\n",
    "part = stringss[(c-1):(c+2)]\n",
    "part"
   ]
  },
  {
   "cell_type": "code",
   "execution_count": 9,
   "metadata": {},
   "outputs": [],
   "source": [
    "\n",
    "#4. Create 2 string and add 2nd string to middle of first string"
   ]
  },
  {
   "cell_type": "code",
   "execution_count": 10,
   "metadata": {},
   "outputs": [
    {
     "name": "stdout",
     "output_type": "stream",
     "text": [
      "Debabadem\n"
     ]
    }
   ],
   "source": [
    "str1 = 'Dedem'\n",
    "str2 = 'baba'\n",
    "c = int(len(str1)/2)\n",
    "e = str1[c]\n",
    "new = str1[0:c] + str2 + str1[c:]\n",
    "print(new)"
   ]
  },
  {
   "cell_type": "code",
   "execution_count": 11,
   "metadata": {},
   "outputs": [],
   "source": [
    "\n",
    "#5. Create 2 string and create another string with combine of the values of first,middle and last of your first 2 string"
   ]
  },
  {
   "cell_type": "code",
   "execution_count": 12,
   "metadata": {},
   "outputs": [
    {
     "data": {
      "text/plain": [
       "'Brhara'"
      ]
     },
     "execution_count": 12,
     "metadata": {},
     "output_type": "execute_result"
    }
   ],
   "source": [
    "str1 = 'Bahar'\n",
    "str2 = 'rustamova'\n",
    "#a=1 ci deyerlerin birlesmesi\n",
    "a = str1[0]+str2[0]\n",
    "a1 = int(len(str1)/2)\n",
    "a11 = str1[a1] #a11=str1[int(len(str1)/2)]\n",
    "a2 = int(len(str2)/2)\n",
    "a22 = str2[a2] #a22=str2[int(len(str2)/2)]\n",
    "#b orta deyerlerin birlesmesi\n",
    "b= a11 + a22 #b=str1[int(len(str1)/2)]+str2[int(len(str2)/2)]\n",
    "#c son deyerlerin birlesmesi\n",
    "c= str1[-1]+str2[-1]\n",
    "a+b+c\n"
   ]
  },
  {
   "cell_type": "code",
   "execution_count": 13,
   "metadata": {},
   "outputs": [],
   "source": [
    "my_str = 'Gece-gece yatmayib gecesine oxumaga hesr etmek'\n",
    "#6. Write code to find how many \"gece\" words there\n",
    "\n"
   ]
  },
  {
   "cell_type": "code",
   "execution_count": 14,
   "metadata": {},
   "outputs": [
    {
     "data": {
      "text/plain": [
       "2"
      ]
     },
     "execution_count": 14,
     "metadata": {},
     "output_type": "execute_result"
    }
   ],
   "source": [
    "my_str = 'Gece-gece yatmayib gecesine oxumaga hesr etmek'\n",
    "my_str.lower()\n",
    "b = my_str.count('gece')\n",
    "b"
   ]
  },
  {
   "cell_type": "code",
   "execution_count": 15,
   "metadata": {},
   "outputs": [],
   "source": [
    "str1 = \"Semra-is-a-data-scientist\"\n",
    "#7. Change this string to list , but all words must be same , and you don't need \"-\"\n",
    "\n"
   ]
  },
  {
   "cell_type": "code",
   "execution_count": 16,
   "metadata": {},
   "outputs": [
    {
     "data": {
      "text/plain": [
       "['S',\n",
       " 'e',\n",
       " 'm',\n",
       " 'r',\n",
       " 'a',\n",
       " ' ',\n",
       " 'i',\n",
       " 's',\n",
       " ' ',\n",
       " 'a',\n",
       " ' ',\n",
       " 'd',\n",
       " 'a',\n",
       " 't',\n",
       " 'a',\n",
       " ' ',\n",
       " 's',\n",
       " 'c',\n",
       " 'i',\n",
       " 'e',\n",
       " 'n',\n",
       " 't',\n",
       " 'i',\n",
       " 's',\n",
       " 't']"
      ]
     },
     "execution_count": 16,
     "metadata": {},
     "output_type": "execute_result"
    }
   ],
   "source": [
    "str1 = \"Semra-is-a-data-scientist\"\n",
    "str2 = str1.split('-')\n",
    "str3 = list(\" \".join(str2))\n",
    "str3\n"
   ]
  },
  {
   "cell_type": "markdown",
   "metadata": {},
   "source": [
    "# Some examples\n"
   ]
  },
  {
   "cell_type": "code",
   "execution_count": 17,
   "metadata": {},
   "outputs": [
    {
     "data": {
      "text/plain": [
       "[(1, 1), (2, 4), (3, 9), (4, 16)]"
      ]
     },
     "execution_count": 17,
     "metadata": {},
     "output_type": "execute_result"
    }
   ],
   "source": [
    "a = [1,2,3,4]\n",
    "c = list(zip(a,(i**2 for i in a)))\n",
    "c\n",
    "#c = list(zip(a,b))\n",
    "#c"
   ]
  },
  {
   "cell_type": "code",
   "execution_count": 18,
   "metadata": {},
   "outputs": [
    {
     "data": {
      "text/plain": [
       "[(1, 1), (2, 4), (3, 9), (4, 16)]"
      ]
     },
     "execution_count": 18,
     "metadata": {},
     "output_type": "execute_result"
    }
   ],
   "source": [
    "a = [1,2,3,4]\n",
    "c = lambda x:x**2\n",
    "d = list(map(c,a))\n",
    "e = list(zip(a,d))\n",
    "e"
   ]
  },
  {
   "cell_type": "code",
   "execution_count": 19,
   "metadata": {},
   "outputs": [
    {
     "data": {
      "text/plain": [
       "['My', 'name', 'is', 'Kelly']"
      ]
     },
     "execution_count": 19,
     "metadata": {},
     "output_type": "execute_result"
    }
   ],
   "source": [
    "list1 = [\"M\",\"na\",\"i\",\"Ke\"]\n",
    "list2 = [\"y\",\"me\",\"s\",\"lly\"]\n",
    "a = list(i+j for i,j in zip(list1,list2))\n",
    "a\n",
    "#list(zip(list1,list2))"
   ]
  },
  {
   "cell_type": "code",
   "execution_count": 20,
   "metadata": {},
   "outputs": [
    {
     "data": {
      "text/plain": [
       "['Hello Dear ', 'Hello Sir ', 'take Dear ', 'take Sir ']"
      ]
     },
     "execution_count": 20,
     "metadata": {},
     "output_type": "execute_result"
    }
   ],
   "source": [
    "list1 = [\"Hello \",\"take \"]\n",
    "list2 = [\"Dear \",\"Sir \"]\n",
    "a = list(i + j for i in list1 for j in list2)\n",
    "a"
   ]
  },
  {
   "cell_type": "code",
   "execution_count": 21,
   "metadata": {},
   "outputs": [
    {
     "name": "stdout",
     "output_type": "stream",
     "text": [
      "10 400\n",
      "20 300\n",
      "30 200\n",
      "40 100\n"
     ]
    }
   ],
   "source": [
    "list1 = [10,20,30,40]\n",
    "list2 = [100,200,300,400]\n",
    "for i,j in zip(list1,list2[::-1]):\n",
    "     print(i,j)"
   ]
  },
  {
   "cell_type": "code",
   "execution_count": 22,
   "metadata": {},
   "outputs": [
    {
     "data": {
      "text/plain": [
       "['a', 'b', ['c', ['d', 'e', ['f', 'g', 'h', 'i', 'j'], 'k'], 'l'], 'm', 'n']"
      ]
     },
     "execution_count": 22,
     "metadata": {},
     "output_type": "execute_result"
    }
   ],
   "source": [
    "elave_list=[\"h\",\"i\",\"j\"]\n",
    "list = [\"a\", \"b\", [\"c\", [\"d\", \"e\", [\"f\", \"g\"], \"k\"], \"l\"], \"m\", \"n\"]\n",
    "list[2][1][2]\n",
    "list[2][1][2].extend(elave_list)\n",
    "list\n"
   ]
  },
  {
   "cell_type": "code",
   "execution_count": 23,
   "metadata": {},
   "outputs": [
    {
     "data": {
      "text/plain": [
       "{'Ten': 10, 'Twenty': 20, 'Thirty': 30}"
      ]
     },
     "execution_count": 23,
     "metadata": {},
     "output_type": "execute_result"
    }
   ],
   "source": [
    "keys = ['Ten','Twenty','Thirty']\n",
    "values = [10,20,30]\n",
    "#dict(zip(['Ten','Twenty','Thirty'],[10,20,30]))\n",
    "dict(zip(keys,values))"
   ]
  },
  {
   "cell_type": "code",
   "execution_count": 24,
   "metadata": {},
   "outputs": [
    {
     "data": {
      "text/plain": [
       "80"
      ]
     },
     "execution_count": 24,
     "metadata": {},
     "output_type": "execute_result"
    }
   ],
   "source": [
    "my_Dict = {\"class\": {\"student\": {\"name\": \"Tebriz\",\"marks\": {\"physics\": 70,\"history\": 80}}}}\n",
    "my_Dict[\"class\"][\"student\"][\"marks\"][\"history\"]"
   ]
  }
 ],
 "metadata": {
  "kernelspec": {
   "display_name": "base",
   "language": "python",
   "name": "python3"
  },
  "language_info": {
   "codemirror_mode": {
    "name": "ipython",
    "version": 3
   },
   "file_extension": ".py",
   "mimetype": "text/x-python",
   "name": "python",
   "nbconvert_exporter": "python",
   "pygments_lexer": "ipython3",
   "version": "3.11.4"
  },
  "orig_nbformat": 4
 },
 "nbformat": 4,
 "nbformat_minor": 2
}
